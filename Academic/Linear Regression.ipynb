{
 "cells": [
  {
   "cell_type": "markdown",
   "metadata": {},
   "source": [
    "# Problems 3 - Linear Regression"
   ]
  },
  {
   "cell_type": "markdown",
   "metadata": {},
   "source": [
    "## 3.1 Regression or Classification?\n",
    "\n",
    "You want to address the following scenarios. How would you treat each of the scenarios: as classification or regression problems?"
   ]
  },
  {
   "cell_type": "markdown",
   "metadata": {},
   "source": [
    "### Scenario 1:\n",
    "\n",
    "Suppose you are working on weather prediction, and you would like to predict whether or not it will be raining at 5pm tomorrow"
   ]
  },
  {
   "cell_type": "markdown",
   "metadata": {},
   "source": [
    "---\n",
    "\n",
    "*Classification*\n",
    "\n",
    "---\n"
   ]
  },
  {
   "cell_type": "markdown",
   "metadata": {},
   "source": [
    "### Scenario 2:\n",
    "\n",
    "Suppose you are working on stock market prediction, and you would like to predict the price of a particular stock tomorrow (measured in dollars)"
   ]
  },
  {
   "cell_type": "markdown",
   "metadata": {},
   "source": [
    "---\n",
    "\n",
    "*Regression*\n",
    "\n",
    "---\n"
   ]
  },
  {
   "cell_type": "markdown",
   "metadata": {},
   "source": [
    "### Scenario 3:\n",
    "\n",
    "Suppose you work in the music industry and you want to develop a service that receives short recordings of music that users have recorded using their mobile phones and responds to each user with the title of the song that was playing"
   ]
  },
  {
   "cell_type": "markdown",
   "metadata": {},
   "source": [
    "---\n",
    "\n",
    "*Classification*\n",
    "\n",
    "---\n"
   ]
  },
  {
   "cell_type": "markdown",
   "metadata": {},
   "source": [
    "### Scenario 4:\n",
    "\n",
    "Suppose you need to decide the budget that Spain should dedicate on research next year. You have data on research spending and high-level academic publications produced of all European Union countries, and you want to decide on the right spending (in EUR) that will make Spain competitive to northern European countries in terms of academic publications."
   ]
  },
  {
   "cell_type": "markdown",
   "metadata": {},
   "source": [
    "---\n",
    "\n",
    "*Regression*\n",
    "\n",
    "---\n"
   ]
  },
  {
   "cell_type": "markdown",
   "metadata": {},
   "source": [
    "## 3.2 Supervised or Unsupervised?\n",
    "\n",
    "Some of the problems below are best addressed using a *supervised* learning algorithm, and others with an *unsupervised* learning algorithm. Indicate case whether you would apply supervised or unsupervised learning in each case, and explain briefly your response."
   ]
  },
  {
   "cell_type": "markdown",
   "metadata": {},
   "source": [
    "### Scenario 1:\n",
    "\n",
    "Examine a large collection of emails that are known to be spam email, to discover if there are sub-types of spam mail"
   ]
  },
  {
   "cell_type": "markdown",
   "metadata": {},
   "source": [
    "---\n",
    "\n",
    "*Unsupervised*\n",
    "\n",
    "---\n"
   ]
  },
  {
   "cell_type": "markdown",
   "metadata": {},
   "source": [
    "### Scenario 2:\n",
    "\n",
    "Take a collection of 1000 essays written on the US Economy, and find a way to automatically group these essays into a small number of groups of essays that are somehow \"similar\" or \"related\""
   ]
  },
  {
   "cell_type": "markdown",
   "metadata": {},
   "source": [
    "---\n",
    "\n",
    "*Unsupervised*\n",
    "\n",
    "---\n"
   ]
  },
  {
   "cell_type": "markdown",
   "metadata": {},
   "source": [
    "### Scenario 3:\n",
    "\n",
    "Given 50 articles written by male authors, and 50 articles written by female authors, learn to predict the gender of a new manuscript's author (when the identity of this author is unknown)"
   ]
  },
  {
   "cell_type": "markdown",
   "metadata": {},
   "source": [
    "---\n",
    "\n",
    "*Supervised*\n",
    "\n",
    "---\n"
   ]
  },
  {
   "cell_type": "markdown",
   "metadata": {},
   "source": [
    "### Scenario 4:\n",
    "\n",
    "Given historical data of children's ages and heights, predict children's height as a function of their age"
   ]
  },
  {
   "cell_type": "markdown",
   "metadata": {},
   "source": [
    "---\n",
    "\n",
    "*Supervised*\n",
    "\n",
    "---\n"
   ]
  },
  {
   "cell_type": "markdown",
   "metadata": {
    "tags": []
   },
   "source": [
    "## 3.3 Warming up\n",
    "\n",
    "Consider the training set of $m=4$ training examples of the table below.\n",
    "\n",
    "| x   |  y  |\n",
    "|:---:|:---:|\n",
    "|  1  | 1.0 | \n",
    "|  2  | 1.5 | \n",
    "|  4  | 2.5 | \n",
    "|  0  | 0.5 | \n",
    "\n",
    "Consider the linear regression model $f_w(x) = w_0+w_1x$. \n",
    "\n",
    "<font color=blue>**Question:** Would a linear regression be able to fit this data perfectly?</font>\n",
    "\n",
    "<font color=blue>What are the values of $w_0$ and $w_1$ that you would expect to obtain upon running gradient descent on this model?</font>"
   ]
  },
  {
   "cell_type": "markdown",
   "metadata": {},
   "source": [
    "---\n",
    "\n",
    "Yes linear regression would fit the data perfectly.\n",
    "\n",
    "$w_0 = 0.5$\n",
    "\n",
    "$w_1 = 0.5$\n",
    "\n",
    "---\n"
   ]
  },
  {
   "cell_type": "markdown",
   "metadata": {},
   "source": [
    "## 3.4 Plotting data"
   ]
  },
  {
   "cell_type": "markdown",
   "metadata": {},
   "source": [
    "As you will see in the next practical, Python allows us to plot data easily through the module `matplotlib`. Here's how to do a scatter plot of the few points shown below.\n",
    "\n",
    "*PPP is the Gross Domestic Product Purchasing Power Parity - an indication of a country's currency value compared to another country. Here it is compared to US dollars.*\n",
    "\n",
    "| Year | Cuba's PPP |\n",
    "|------|-------|\n",
    "| 1999 | 1,700 |\n",
    "| 2000 | 1,700 |\n",
    "| 2002 | 2,300 |\n",
    "| 2003 | 2,900 |\n",
    "| 2004 | 3,000 |\n",
    "| 2005 | 3,500 |\n",
    "| 2006 | 4,000 |\n",
    "| 2007 | 11,000|\n",
    "| 2008 | 9,500 |\n",
    "| 2009 | 9,700 |\n",
    "| 2010 | 9,900 |"
   ]
  },
  {
   "cell_type": "code",
   "execution_count": null,
   "metadata": {},
   "outputs": [],
   "source": [
    "import matplotlib.pyplot as plt\n",
    "\n",
    "x = [1999, 2000, 2002, 2003, 2004, 2005, 2006, 2007, 2008, 2009, 2010]\n",
    "y = [1700, 1700, 2300, 2900, 3000, 3500, 4000, 11000, 9500, 9700, 9900]\n",
    "\n",
    "plt.plot(x, y, 'o') # plot dots ('o') for each sample\n",
    "plt.show()"
   ]
  },
  {
   "cell_type": "markdown",
   "metadata": {},
   "source": [
    "<font color=blue>**Question:** What do you make of this data? How did the PPP of Cuba evolve over the years? Could we fit this with a linear model?</font>"
   ]
  },
  {
   "cell_type": "markdown",
   "metadata": {},
   "source": [
    "---\n",
    "\n",
    "There seems to be two separate parts in the evolution of the PPP, each of which could be modelled with a linear model. But in 2007 some strange event happened that caused a change of regimen (actually, the 2007 data should probably be treated as an outliner). I would use two different models for the dates < 2007 and for the dates > 2007.\n",
    "\n",
    "---\n"
   ]
  },
  {
   "cell_type": "markdown",
   "metadata": {},
   "source": [
    "Imagine that you try to fit a linear model to these data. This means a linear regression model of the form $f_w(x) = w_0+w_1x$ that is controlled by two parameters $w_0$ and $w_1$. Below is some code that first plots the data, and then plots a line given $w_0$ and $w_1$."
   ]
  },
  {
   "cell_type": "code",
   "execution_count": null,
   "metadata": {},
   "outputs": [],
   "source": [
    "# Plot the data\n",
    "plt.plot(x, y, 'o') # plot dots ('o') for each sample\n",
    "\n",
    "# Define the parameters for a line y = w0 + w1 * x\n",
    "w = [0, 0] # These are the parameters of the line [w0, w1]\n",
    "\n",
    "# Calculate a series of points along the line\n",
    "xx = range(1999, 2011) # This will create a list of integers from [1999 to 2010]\n",
    "yy = [w[0] + w[1] * x for x in xx] # Use list comprehension to create a list of corresponding outputs for y\n",
    "\n",
    "# Plot the line, connecting the points calculated\n",
    "plt.plot(xx, yy)\n",
    "plt.show()"
   ]
  },
  {
   "cell_type": "markdown",
   "metadata": {},
   "source": [
    "<font color=blue>**Exercise:** Can you manually adjust the two parameters in the code to obtain the line that best fits the data in your opinion?</font>"
   ]
  },
  {
   "cell_type": "code",
   "execution_count": null,
   "metadata": {},
   "outputs": [],
   "source": [
    "# Your Code Here\n",
    "\n",
    "# Plot the data\n",
    "plt.plot(x, y, 'o') # plot dots ('o') for each sample\n",
    "\n",
    "# Define the parameters for a line y = w0 + w1 * x\n",
    "w = [-1600000, 800] # These are the parameters of the line [w0, w1]\n",
    "\n",
    "# Calculate a series of points along the line\n",
    "xx = range(1999, 2011) # This will create a list of integers from [1999 to 2010]\n",
    "yy = [w[0] + w[1] * x for x in xx] # Use list comprehension to create a list of corresponding outputs for y\n",
    "\n",
    "# Plot the line, connecting the points calculated\n",
    "plt.plot(xx, yy)\n",
    "plt.show()"
   ]
  },
  {
   "cell_type": "markdown",
   "metadata": {},
   "source": [
    "<font color=blue>**Question:** What do you observe about the values of the parameters you have found?</font>"
   ]
  },
  {
   "cell_type": "markdown",
   "metadata": {},
   "source": [
    "---\n",
    "\n",
    "The values of the parameters seem huge, and the search is quite unstable.\n",
    "\n",
    "---\n"
   ]
  },
  {
   "cell_type": "markdown",
   "metadata": {},
   "source": [
    "## 3.5 House Prices\n",
    "\n",
    "During the previous lecture, we used a running example of house prices. This dataset is known as the \"house prices\" dataset. The task to be done is to predict the price of a house given some 'features' of the house. Our input data comprises two features per sample (size of the house, and number of rooms), while the output data is the price of each sample.\n",
    "\n",
    "Here is the data:\n",
    "\n",
    "| Size (square feet) | Rooms | Price (USD) |Size (square feet) | Rooms | Price (USD) |Size (square feet) | Rooms | Price (USD) |Size (square feet) | Rooms | Price (USD) |\n",
    "|:------ |:----|:----------|:------ |:----|:----------|:------ |:----|:----------|:------ |:----|:----------|\n",
    "| 2104.0 | 3.0 |  **399900.0** | 1890.0 | 3.0 |  **329999.0** | 3890.0 | 3.0 |  **573900.0** | 1239.0 | 3.0 |  **229900.0** |\n",
    "| 1600.0 | 3.0 |  **329900.0** | 4478.0 | 5.0 |  **699900.0** | 1100.0 | 3.0 |  **249900.0** | 2132.0 | 4.0 |  **345000.0** |\n",
    "| 2400.0 | 3.0 |  **369000.0** | 1268.0 | 3.0 |  **259900.0** | 1458.0 | 3.0 |  **464500.0** | 4215.0 | 4.0 |  **549000.0** | \n",
    "| 1416.0 | 2.0 |  **232000.0** | 2300.0 | 4.0 |  **449900.0** | 2526.0 | 3.0 |  **469000.0** | 2162.0 | 4.0 |  **287000.0** |\n",
    "| 3000.0 | 4.0 |  **539900.0** | 1320.0 | 2.0 |  **299900.0** | 2200.0 | 3.0 |  **475000.0** | 1664.0 | 2.0 |  **368500.0** | \n",
    "| 1985.0 | 4.0 |  **299900.0** | 1236.0 | 3.0 |  **199900.0** | 2637.0 | 3.0 |  **299900.0** | 2238.0 | 3.0 |  **329900.0** | \n",
    "| 1534.0 | 3.0 |  **314900.0** | 2609.0 | 4.0 |  **499998.0** | 1839.0 | 2.0 |  **349900.0** | 2567.0 | 4.0 |  **314000.0** | \n",
    "| 1427.0 | 3.0 |  **198999.0** | 3031.0 | 4.0 |  **599000.0** | 1000.0 | 1.0 |  **169900.0** | 1200.0 | 3.0 |  **299000.0** | \n",
    "| 1380.0 | 3.0 |  **212000.0** | 1767.0 | 3.0 |  **252900.0** | 2040.0 | 4.0 |  **314900.0** | 852.0  | 2.0 |  **179900.0** | \n",
    "| 1494.0 | 3.0 |  **242500.0** | 1888.0 | 2.0 |  **255000.0** | 3137.0 | 3.0 |  **579900.0** | 1852.0 | 4.0 |  **299900.0** | \n",
    "| 1940.0 | 4.0 |  **239999.0** | 1604.0 | 3.0 |  **242900.0** | 1811.0 | 4.0 |  **285900.0** | 1203.0 | 3.0 |  **239500.0** | \n",
    "| 2000.0 | 3.0 |  **347000.0** | 1962.0 | 4.0 |  **259900.0** | 1437.0 | 3.0 |  **249900.0** | \n",
    "\n",
    "Let's first get them into Python. For simplification we are going to use only one feature for the time being - the size of the house."
   ]
  },
  {
   "cell_type": "code",
   "execution_count": null,
   "metadata": {},
   "outputs": [],
   "source": [
    "size = [2104., 1600., 2400., 1416., 3000., 1985., 1534., 1427., 1380., \n",
    "       1494., 1940., 2000., 1890., 4478., 1268., 2300., 1320., 1236.,\n",
    "       2609., 3031., 1767., 1888., 1604., 1962., 3890., 1100., 1458.,\n",
    "       2526., 2200., 2637., 1839., 1000., 2040., 3137., 1811., 1437.,\n",
    "       1239., 2132., 4215., 2162., 1664., 2238., 2567., 1200.,  852.,\n",
    "       1852., 1203.]\n",
    "\n",
    "rooms = [3., 3., 3., 2., 4., 4., 3., 3., 3., 3., 4., 3., 3., 5., 3., 4., 2.,\n",
    "       3., 4., 4., 3., 2., 3., 4., 3., 3., 3., 3., 3., 3., 2., 1., 4., 3.,\n",
    "       4., 3., 3., 4., 4., 4., 2., 3., 4., 3., 2., 4., 3.]\n",
    "\n",
    "price = [399900., 329900., 369000., 232000., 539900., 299900., 314900.,\n",
    "       198999., 212000., 242500., 239999., 347000., 329999., 699900.,\n",
    "       259900., 449900., 299900., 199900., 499998., 599000., 252900.,\n",
    "       255000., 242900., 259900., 573900., 249900., 464500., 469000.,\n",
    "       475000., 299900., 349900., 169900., 314900., 579900., 285900.,\n",
    "       249900., 229900., 345000., 549000., 287000., 368500., 329900.,\n",
    "       314000., 299000., 179900., 299900., 239500.]"
   ]
  },
  {
   "cell_type": "markdown",
   "metadata": {},
   "source": [
    "<br>\n",
    "\n",
    "<font color=blue>**Exercise:** How many samples do we have in our dataset?</font>"
   ]
  },
  {
   "cell_type": "code",
   "execution_count": null,
   "metadata": {},
   "outputs": [],
   "source": [
    "# Your Code Here #\n",
    "\n",
    "m = len(size)\n",
    "print(m)"
   ]
  },
  {
   "cell_type": "markdown",
   "metadata": {},
   "source": [
    "<br>\n",
    "\n",
    "<font color=blue>**Exercise:** Do a scatter plot of size versus price (you can ignore the number of rooms for now)</font>"
   ]
  },
  {
   "cell_type": "code",
   "execution_count": null,
   "metadata": {
    "jupyter": {
     "outputs_hidden": false
    }
   },
   "outputs": [],
   "source": [
    "# Your Code Here #\n",
    "\n",
    "# Plot sample points\n",
    "plt.plot(size, price, 'o')\n",
    "plt.title('House Prices')\n",
    "plt.xlabel('House Size (square feet)')\n",
    "plt.ylabel('House Price ($)')\n",
    "plt.show()"
   ]
  },
  {
   "cell_type": "markdown",
   "metadata": {},
   "source": [
    "We want to automatically find a model to predict prices $y$ for houses that are not in our dataset. In linear regression, the model $h$ is a linear function of the input data ($x$, in our case the house size):\n",
    "\n",
    "> $f_w(x) = w_0 + w_1 x$\n",
    "\n",
    "For this we need to choose the parameters $w_i$ minimizing a cost function $J$ e.g. the average squared difference between the predictions ($f_w$) and the real prices ($y$) in our training data:\n",
    "\n",
    "> $\\hat{w} = \\underset{w}{\\text{minimize}} {1 \\over 2m} \\sum_{i=1}^m{(f_w(x^{(i)}) - y^{(i)})^2}$\n",
    "\n",
    "where $(x^{(i)},y^{(i)})$ is the i-th training sample, and $m$ is the number of samples in our training set.\n",
    "\n",
    "This optimization problem can be solved in different ways, in this example we are going to implement the Gradient Descent algorithm. In pseudo-code the Gradient Descent algorithm is formalized as follows:\n",
    "\n",
    "repeat until convergence:\n",
    "\n",
    "> {\n",
    "> \n",
    "> $w_j := w_j - \\alpha \\frac{\\partial}{\\partial w_j} J(w)$ (for all j)\n",
    ">\n",
    "> }\n",
    "\n",
    "where $\\alpha$ is the learning rate, and the partial derivative (the gradient) of the cost function is given by (generic expression):\n",
    "\n",
    "> $\\frac{\\partial}{\\partial w_j} J(w) = {1 \\over m} \\sum_{i=1}^m{(f_w(x^{(i)}) - y^{(i)}) x_j^{(i)}}$\n",
    "\n",
    "In our case, the partial derivatives for $w_0$ and $w_1$ are:\n",
    "\n",
    "> $\\frac{\\partial}{\\partial w_0} J(w) = {1 \\over m} \\sum_{i=1}^m{(f_w(x^{(i)}) - y^{(i)})}$\n",
    "\n",
    "> $\\frac{\\partial}{\\partial w_1} J(w) = {1 \\over m} \\sum_{i=1}^m{(f_w(x^{(i)}) - y^{(i)}) x^{(i)}}$\n",
    "\n",
    "Let's see a first (quite inefficient) version of the Gradient Descent algorithm in Python:"
   ]
  },
  {
   "cell_type": "code",
   "execution_count": 18,
   "metadata": {},
   "outputs": [
    {
     "name": "stdout",
     "output_type": "stream",
     "text": [
      "[0.08050805332714407, 163.9249033496211]\n"
     ]
    }
   ],
   "source": [
    "def GradientDescent(x, y, max_iterations=100, alpha=0.00000001):\n",
    "    m = len(x) # number of samples\n",
    "   \n",
    "    #initialize the parameters to zero (or any other random value)\n",
    "    w0 = 0\n",
    "    w1 = 0\n",
    "    \n",
    "    for it in range(max_iterations): #lets take a max of max_iteration steps updating the parameters\n",
    "        s0 = 0 # We will use this to calculate the sum inside the cost function\n",
    "        s1 = 0\n",
    "        for i in range(m): #Go over the points and calculate the sum\n",
    "            h = w0 + w1 * x[i]\n",
    "            s0 = s0 + (h - y[i])\n",
    "            s1 = s1 + (h - y[i])* x[i]\n",
    "        Grad0 = s0 / m \n",
    "        Grad1 = s1 / m \n",
    "        \n",
    "        w0 = w0 - alpha * Grad0\n",
    "        w1 = w1 - alpha * Grad1\n",
    "        \n",
    "    return [w0, w1]\n",
    "    \n",
    "w = GradientDescent(size, price)\n",
    "\n",
    "print(w)"
   ]
  },
  {
   "cell_type": "markdown",
   "metadata": {},
   "source": [
    "<br>\n",
    "\n",
    "<font color=blue>**Exercise:** Plot the points of our dataset and a line using the parameter values `w` that you calculated</font>"
   ]
  },
  {
   "cell_type": "code",
   "execution_count": 21,
   "metadata": {},
   "outputs": [
    {
     "data": {
      "image/png": "[encoded data removed]",
      "text/plain": [
       "<Figure size 640x480 with 1 Axes>"
      ]
     },
     "metadata": {},
     "output_type": "display_data"
    }
   ],
   "source": [
    "# Your Code Here #\n",
    "w = [71270.49244872911, 134.52528772024132]\n",
    "# Plot sample points.\n",
    "\n",
    "\n",
    "\n",
    "plt.plot(size, price,'o') # plot dots ('o') for each sample (house size, house price)\n",
    "plt.title('House Prices')\n",
    "plt.xlabel('House Size (normalized)')\n",
    "plt.ylabel('House Price ($)')\n",
    "\n",
    "# Plot line y = w0 + w1 * x\n",
    "xx = range(int(min(size)),int(max(size)))\n",
    "len(xx)\n",
    "yy = [w[0] + w[1] * x for x in xx]\n",
    "plt.plot(xx, yy)\n",
    "plt.show()"
   ]
  },
  {
   "cell_type": "markdown",
   "metadata": {},
   "source": [
    "<br>\n",
    "\n",
    "<font color=blue>**Exercise:** Use the model you have calculated to predict the price of a house with `size = 3200` square feet.</font>"
   ]
  },
  {
   "cell_type": "code",
   "execution_count": null,
   "metadata": {},
   "outputs": [],
   "source": [
    "# Your Code Here #\n",
    "\n",
    "hs = 3200\n",
    "hp = w[0]+w[1]*hs\n",
    "\n",
    "print('Predicted price: '+str(hp))"
   ]
  },
  {
   "cell_type": "markdown",
   "metadata": {},
   "source": [
    "<br>\n",
    "\n",
    "There are existing implementations for linear regression available for Python. For example, using the sklearn module's implementation, it would be:"
   ]
  },
  {
   "cell_type": "code",
   "execution_count": 20,
   "metadata": {},
   "outputs": [
    {
     "name": "stdout",
     "output_type": "stream",
     "text": [
      "The estimated value of w0 (the intercept of the line) is: 71270.49244872911\n",
      "The estimated value of w1 (the slope) is: 134.52528772024132\n",
      "The estimated price for a house with size = 3200 using the model would be: [501751.4131535]\n"
     ]
    }
   ],
   "source": [
    "import numpy as np\n",
    "from sklearn.linear_model import LinearRegression\n",
    "\n",
    "x = np.array(size).reshape(-1, 1) # make this a 1 column vector\n",
    "y = np.array(price)\n",
    "\n",
    "reg = LinearRegression().fit(x, y)\n",
    "\n",
    "print('The estimated value of w0 (the intercept of the line) is: {0}'.format(reg.intercept_))\n",
    "print('The estimated value of w1 (the slope) is: {0}'.format(reg.coef_[0]))\n",
    "\n",
    "print('The estimated price for a house with size = 3200 using the model would be: {0}'.format(reg.predict([[3200]])))"
   ]
  },
  {
   "cell_type": "markdown",
   "metadata": {},
   "source": [
    "<br>\n",
    "\n",
    "<font color=blue>**Home Study:** Have a look at the help pages for the `LinearRegression()` function of `sklearn`, as well as a read of the help page of the function [https://scikit-learn.org/stable/modules/generated/sklearn.linear_model.LinearRegression.html](https://scikit-learn.org/stable/modules/generated/sklearn.linear_model.LinearRegression.html) </font>"
   ]
  }
 ],
 "metadata": {
  "kernelspec": {
   "display_name": "base",
   "language": "python",
   "name": "python3"
  },
  "language_info": {
   "codemirror_mode": {
    "name": "ipython",
    "version": 3
   },
   "file_extension": ".py",
   "mimetype": "text/x-python",
   "name": "python",
   "nbconvert_exporter": "python",
   "pygments_lexer": "ipython3",
   "version": "3.9.13 (main, Aug 25 2022, 23:51:50) [MSC v.1916 64 bit (AMD64)]"
  },
  "vscode": {
   "interpreter": {
    "hash": "ad2bdc8ecc057115af97d19610ffacc2b4e99fae6737bb82f5d7fb13d2f2c186"
   }
  }
 },
 "nbformat": 4,
 "nbformat_minor": 4
}
